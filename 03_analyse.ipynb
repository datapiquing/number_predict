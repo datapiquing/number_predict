{
 "cells": [
  {
   "cell_type": "markdown",
   "metadata": {},
   "source": [
    "# EV3 Character Recognition Experiment - Analyse"
   ]
  },
  {
   "cell_type": "markdown",
   "metadata": {},
   "source": [
    "1. Load the clean dataset\n",
    "2. Do some basic EDA (shape, info, target count, head)\n",
    "3. Plot graphs\n"
   ]
  },
  {
   "cell_type": "markdown",
   "metadata": {},
   "source": [
    "## Analyse character reflectivity dataset"
   ]
  },
  {
   "cell_type": "code",
   "execution_count": null,
   "metadata": {},
   "outputs": [],
   "source": [
    "#import numpy as np\n",
    "import pandas as pd\n",
    "import matplotlib.pyplot as plt\n",
    "import warnings"
   ]
  },
  {
   "cell_type": "code",
   "execution_count": null,
   "metadata": {},
   "outputs": [],
   "source": [
    "# Suppress matplotlib warnings[*]\n",
    "warnings.filterwarnings('ignore')"
   ]
  },
  {
   "cell_type": "code",
   "execution_count": null,
   "metadata": {},
   "outputs": [],
   "source": [
    "directory = !pwd\n",
    "print(f'Working folder = {directory}')"
   ]
  },
  {
   "cell_type": "code",
   "execution_count": null,
   "metadata": {},
   "outputs": [],
   "source": [
    "# Load dataset and extract feature set\n",
    "filename='training_dataset.csv'\n",
    "df_dataset = pd.read_csv(f'./clean_data/{filename}')\n",
    "labels = df_dataset['target'].unique()\n",
    "    \n",
    "X = df_dataset.drop(labels='target', axis=1)"
   ]
  },
  {
   "cell_type": "code",
   "execution_count": null,
   "metadata": {},
   "outputs": [],
   "source": [
    "print(f'Rows = {X.shape[0]}, Columns = {X.shape[1]}')"
   ]
  },
  {
   "cell_type": "code",
   "execution_count": null,
   "metadata": {},
   "outputs": [],
   "source": [
    "print(f'Target labels in dataset = {labels}')"
   ]
  },
  {
   "cell_type": "code",
   "execution_count": null,
   "metadata": {},
   "outputs": [],
   "source": [
    "# Get the total number of each target row\n",
    "df_target_count = df_dataset.loc[:,['0', 'target']].groupby('target').count()\n",
    "df_target_count.columns = ['total']\n",
    "df_target_count"
   ]
  },
  {
   "cell_type": "code",
   "execution_count": null,
   "metadata": {},
   "outputs": [],
   "source": [
    "# Dataset\n",
    "df_dataset.head()"
   ]
  },
  {
   "cell_type": "code",
   "execution_count": null,
   "metadata": {},
   "outputs": [],
   "source": [
    "# Feature set\n",
    "X.head()"
   ]
  },
  {
   "cell_type": "code",
   "execution_count": null,
   "metadata": {},
   "outputs": [],
   "source": [
    "X.info()"
   ]
  },
  {
   "cell_type": "code",
   "execution_count": null,
   "metadata": {},
   "outputs": [],
   "source": [
    "def plot_dataset(fn, label=None):\n",
    "    \"\"\"Load dataset and generate plots of all or individual target labels\"\"\"\n",
    "    \n",
    "    # Load dataset\n",
    "    df_dataset = pd.read_csv(f'./clean_data/{fn}')\n",
    "    labels = df_dataset['target'].unique()    \n",
    "    \n",
    "    if label is None:\n",
    "        # Generate mean/median plots for all target labels in the dataset[*]\n",
    "        rows = len(labels)\n",
    "        plot_number = 0\n",
    "        fig, axes = plt.subplots(nrows=rows, ncols=1, sharex='True', sharey='True', figsize = (15, 24))\n",
    "        for l in labels:\n",
    "            df = df_dataset[df_dataset['target'] == l]\n",
    "            df = df.drop(labels='target', axis=1)\n",
    "            df.transpose()\n",
    "            df.mean().astype(int).plot(ax=axes[plot_number], label = f'mean #{l}')\n",
    "            df.median().astype(int).plot(ax=axes[plot_number], label = f'median #{l}')\n",
    "            axes[plot_number].legend(loc='upper right')\n",
    "            if plot_number == 0:\n",
    "                axes[plot_number].set_title(f'Angle vs Reflectivity (mean & median) for each target in the dataset')\n",
    "            axes[plot_number].set_xlabel('Angle of rotation (degrees)')            \n",
    "            #plt.xlabel('Angle of rotation (degrees)')\n",
    "            if plot_number == 4:\n",
    "                axes[plot_number].set_ylabel('Reflectivity (%)')\n",
    "            #plt.ylabel('Reflectivity (%)')\n",
    "            plt.subplots_adjust(wspace=0, hspace=0.4)\n",
    "            plot_number += 1  \n",
    "    elif label in labels:\n",
    "        # Generate plots for a specific target label in the dataset\n",
    "        fig, axes = plt.subplots(nrows=1, ncols=2, sharex='False', sharey='False', figsize = (15, 6))\n",
    "        df = df_dataset[df_dataset['target'] == int(label)]\n",
    "        X = df.drop(labels='target', axis=1)\n",
    "        \n",
    "        # Plot all rows of the specified target\n",
    "        X.transpose().plot(ax=axes[0], legend=False)\n",
    "        axes[0].legend(title=\"Rotation#\", fontsize='small', fancybox=False)\n",
    "        axes[0].set_title(f'Angle vs Reflectivity for each rotation of #{label}')\n",
    "        axes[0].set_xlabel('Angle of rotation (degrees)')\n",
    "        axes[0].set_ylabel(f'Reflectivity of #{label} (%)')\n",
    "\n",
    "        # Plot mean and median feature values for the specified target\n",
    "        X.mean().astype(int).plot(label = 'mean')\n",
    "        X.median().astype(int).plot(label = 'median')\n",
    "        axes[1].legend()\n",
    "        axes[1].set_title(f'Angle vs Reflectivity (mean & median) of #{label}')\n",
    "        axes[1].set_xlabel('Angle of rotation (degrees)')\n",
    "        axes[1].set_ylabel(f'Reflectivity of #{label} (%)')\n",
    "    else:\n",
    "        print(f'The chosen label, {label}, is not a label in this dataset')   \n",
    "        \n",
    "    plt.show()"
   ]
  },
  {
   "cell_type": "code",
   "execution_count": null,
   "metadata": {},
   "outputs": [],
   "source": [
    "# Generate plots for a specific target label\n",
    "plot_dataset(fn='training_dataset.csv', label=4)"
   ]
  },
  {
   "cell_type": "code",
   "execution_count": null,
   "metadata": {},
   "outputs": [],
   "source": [
    "# Generate plots for all target labels\n",
    "plot_dataset(fn='training_dataset.csv')"
   ]
  },
  {
   "cell_type": "code",
   "execution_count": null,
   "metadata": {},
   "outputs": [],
   "source": []
  }
 ],
 "metadata": {
  "kernelspec": {
   "display_name": "Python 3",
   "language": "python",
   "name": "python3"
  },
  "language_info": {
   "codemirror_mode": {
    "name": "ipython",
    "version": 3
   },
   "file_extension": ".py",
   "mimetype": "text/x-python",
   "name": "python",
   "nbconvert_exporter": "python",
   "pygments_lexer": "ipython3",
   "version": "3.6.12"
  }
 },
 "nbformat": 4,
 "nbformat_minor": 4
}