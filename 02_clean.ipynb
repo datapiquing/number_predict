{
 "cells": [
  {
   "cell_type": "markdown",
   "metadata": {},
   "source": [
    "# EV3 Character Recognition Experiment - Clean"
   ]
  },
  {
   "cell_type": "markdown",
   "metadata": {},
   "source": [
    "1. Process raw data - clean and categorise into rotation buckets\n",
    "2. Add target value column to clean file\n",
    "3. Save clean files to folder\n",
    "4. Concatenate all the clean data files into a single training file\n",
    "5. Save training data file"
   ]
  },
  {
   "cell_type": "markdown",
   "metadata": {},
   "source": [
    "## Process raw data results"
   ]
  },
  {
   "cell_type": "code",
   "execution_count": null,
   "metadata": {},
   "outputs": [],
   "source": [
    "import numpy as np\n",
    "import pandas as pd"
   ]
  },
  {
   "cell_type": "code",
   "execution_count": null,
   "metadata": {},
   "outputs": [],
   "source": [
    "!pwd"
   ]
  },
  {
   "cell_type": "code",
   "execution_count": null,
   "metadata": {},
   "outputs": [],
   "source": [
    "def create_rotation_dict():\n",
    "    \"\"\"Initialise a dictionary with keys of 0 to 360 at 10 degree intervals, each with value zero\"\"\"\n",
    "    degree_bins = list(range(0,361,10))\n",
    "    rotation_dict = {}\n",
    "    for deg_bin in degree_bins:\n",
    "        rotation_dict[deg_bin] = 0\n",
    "    return rotation_dict"
   ]
  },
  {
   "cell_type": "code",
   "execution_count": null,
   "metadata": {},
   "outputs": [],
   "source": [
    "# A function to place rotation values into buckets of 10 degrees (+ or - 5 degrees either side)\n",
    "# These will be the feature columns of each sample rotation\n",
    "\n",
    "def rotation_buckets(degrees):\n",
    "    \"\"\"Calculate which 360 degree bucket (width=10) the rotation belongs\"\"\"\n",
    "    if degrees > 360 and degrees%360 < 5:\n",
    "        degrees = (degrees - 5)%360\n",
    "    else:\n",
    "        degrees = degrees%360\n",
    "    modulus = degrees%10\n",
    "    if modulus < 5:\n",
    "        bucket = degrees - modulus\n",
    "    else:\n",
    "        bucket = (degrees - modulus) + 10\n",
    "    return bucket"
   ]
  },
  {
   "cell_type": "code",
   "execution_count": null,
   "metadata": {},
   "outputs": [],
   "source": [
    "def create_clean_dataframe(fn):\n",
    "    \"\"\"Read in raw data file and return clean DataFrame with target column\"\"\"\n",
    "\n",
    "    target_value = int(fn[5:6])\n",
    "    \n",
    "    df_raw_data = pd.read_csv(f'./raw_data/{fn}')\n",
    "    \n",
    "    # Remove the space that prefixes the 'reflectivity' column name\n",
    "    df_raw_data.columns = ['angle', 'reflectivity']\n",
    "    \n",
    "    # The experiment was 1 run of X x 360 degree rotations\n",
    "    # Put actual rotation angle into buckets of 10 degrees between 0 and 360 degrees\n",
    "    # Concatenate each run of X rotations vertically as tuples of (bucket_degrees, reflectivity_percentage)\n",
    "\n",
    "    results_list = []\n",
    "    rotation_column = 'angle'\n",
    "    reflectivity_column = 'reflectivity'\n",
    "    for index, row in df_raw_data.iterrows():\n",
    "        #prev_bucket_degrees = -1\n",
    "        actual_degrees = row[rotation_column]\n",
    "        bucket_degrees = rotation_buckets(actual_degrees)\n",
    "        reflectivity_percentage = row[reflectivity_column]\n",
    "        #print(actual_degrees, bucket_degrees, reflectivity_percentage)\n",
    "        results_list.append((bucket_degrees, reflectivity_percentage))\n",
    "        \n",
    "    # Convert the list of result tuples (rotation angle, reflectivity) to a dictionary of dictionaries where\n",
    "    # the key is the run number and the value is a dictionary of rotation angles (from 0 to 360 degrees at \n",
    "    # 10 degree intervals) and their respective reflectivity value\n",
    "\n",
    "    run = 0\n",
    "    results = {}\n",
    "    rot_dict = create_rotation_dict()\n",
    "    at_360 = False\n",
    "    for tup in results_list:\n",
    "        if tup[0] < 360 or at_360 == False:\n",
    "            rot_dict[tup[0]] = tup[1]\n",
    "            if tup[0] >= 360:\n",
    "                results[run] = rot_dict\n",
    "                run += 1\n",
    "                rot_dict = create_rotation_dict()\n",
    "\n",
    "        at_360 = (tup[0] >= 360)\n",
    "        \n",
    "    # Create a DataFrame from the angle vs reflectivity results\n",
    "\n",
    "    df_results = pd.DataFrame.from_dict(results)\n",
    "    \n",
    "    # Transpose the DataFrame so each rotation sample is a row and each 10 degree angle of rotation \n",
    "    # between 0 and 360 degrees is a feature column\n",
    "\n",
    "    df_results = df_results.transpose()\n",
    "    \n",
    "    # Impute and zero values\n",
    "    # For angles 0 - 10 degrees use the value of 360 degrees\n",
    "\n",
    "    df_results[0] = np.where(df_results[0] == 0, df_results[360], df_results[0])\n",
    "    \n",
    "    # Where a cell value is zero convert to NaN\n",
    "\n",
    "    df_results[df_results.eq(0)] = np.nan\n",
    "    \n",
    "    # Replace NaN values with the column mean\n",
    "\n",
    "    df_results.fillna(df_results.mean().astype(int), inplace=True)\n",
    "    df_results = df_results.astype(int)\n",
    "        \n",
    "    # Create a target column with the value of the number scanned\n",
    "    df_results['target'] = target_value\n",
    "    \n",
    "    # Export the number DataFrame to a .csv file\n",
    "    df_results.to_csv(f'./clean_data/{fn}', index=False)\n",
    "    \n",
    "    return df_results"
   ]
  },
  {
   "cell_type": "code",
   "execution_count": null,
   "metadata": {},
   "outputs": [],
   "source": [
    "# Get a list of all raw data files collected\n",
    "filename = 'train'\n",
    "all_filenames = !ls ./raw_data | grep -e $filename\n",
    "print(all_filenames)"
   ]
  },
  {
   "cell_type": "code",
   "execution_count": null,
   "metadata": {},
   "outputs": [],
   "source": [
    "def combine_cleaned_dataframes(filename_list):\n",
    "    \"\"\"\"\"\"\n",
    "\n",
    "    df_clean_results = pd.DataFrame()\n",
    "\n",
    "    for fn in filename_list:\n",
    "        df = create_clean_dataframe(fn)\n",
    "        df_clean_results = pd.concat([df_clean_results, df], ignore_index=True) \n",
    "\n",
    "    # Export the number DataFrame to a .csv file\n",
    "    df_clean_results.to_csv(f'./clean_data/training_dataset.csv', index=False)\n",
    "    \n",
    "    return df_clean_results"
   ]
  },
  {
   "cell_type": "code",
   "execution_count": null,
   "metadata": {},
   "outputs": [],
   "source": [
    "dataset = combine_cleaned_dataframes(all_filenames)\n",
    "dataset"
   ]
  },
  {
   "cell_type": "code",
   "execution_count": null,
   "metadata": {},
   "outputs": [],
   "source": []
  },
  {
   "cell_type": "code",
   "execution_count": null,
   "metadata": {},
   "outputs": [],
   "source": []
  }
 ],
 "metadata": {
  "kernelspec": {
   "display_name": "Python 3",
   "language": "python",
   "name": "python3"
  },
  "language_info": {
   "codemirror_mode": {
    "name": "ipython",
    "version": 3
   },
   "file_extension": ".py",
   "mimetype": "text/x-python",
   "name": "python",
   "nbconvert_exporter": "python",
   "pygments_lexer": "ipython3",
   "version": "3.6.12"
  }
 },
 "nbformat": 4,
 "nbformat_minor": 4
}